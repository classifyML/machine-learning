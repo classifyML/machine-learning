{
 "cells": [
  {
   "cell_type": "code",
   "execution_count": 1,
   "metadata": {},
   "outputs": [],
   "source": [
    "import numpy as np\n",
    "import pandas as pd\n",
    "import matplotlib.pyplot as plt\n",
    "%matplotlib inline"
   ]
  },
  {
   "cell_type": "markdown",
   "metadata": {},
   "source": [
    "Let's first create a helper function to help convert the data from mpg (miles per gallon) to km/l (kilometers per liter). This will be used at a later step."
   ]
  },
  {
   "cell_type": "code",
   "execution_count": 2,
   "metadata": {},
   "outputs": [],
   "source": [
    "def mpg_to_kml(mpg):\n",
    "    \"\"\"Helper function to convert mpg to km/l\"\"\"\n",
    "    return mpg * 0.42514"
   ]
  },
  {
   "cell_type": "markdown",
   "metadata": {},
   "source": [
    "Using the pandas module, we can load the csv data into a pandas DataFrame. A DataFrame is an object that contains our data and provides several methods to help with data extraction, transformation, and loading. \n",
    "One such method is 'heads()', that shows the head of the dataframe. By default it shows the first 5 rows, but the desired number of rows can be passed as argument. It is useful to get a quick overview of the type of data we will deal with."
   ]
  },
  {
   "cell_type": "code",
   "execution_count": 3,
   "metadata": {},
   "outputs": [
    {
     "data": {
      "text/html": [
       "<div>\n",
       "<style scoped>\n",
       "    .dataframe tbody tr th:only-of-type {\n",
       "        vertical-align: middle;\n",
       "    }\n",
       "\n",
       "    .dataframe tbody tr th {\n",
       "        vertical-align: top;\n",
       "    }\n",
       "\n",
       "    .dataframe thead th {\n",
       "        text-align: right;\n",
       "    }\n",
       "</style>\n",
       "<table border=\"1\" class=\"dataframe\">\n",
       "  <thead>\n",
       "    <tr style=\"text-align: right;\">\n",
       "      <th></th>\n",
       "      <th>Model</th>\n",
       "      <th>Displ</th>\n",
       "      <th>Cyl</th>\n",
       "      <th>Trans</th>\n",
       "      <th>Drive</th>\n",
       "      <th>Fuel</th>\n",
       "      <th>Cert Region</th>\n",
       "      <th>Stnd</th>\n",
       "      <th>Stnd Description</th>\n",
       "      <th>Underhood ID</th>\n",
       "      <th>Veh Class</th>\n",
       "      <th>Air Pollution Score</th>\n",
       "      <th>City MPG</th>\n",
       "      <th>Hwy MPG</th>\n",
       "      <th>Cmb MPG</th>\n",
       "      <th>Greenhouse Gas Score</th>\n",
       "      <th>SmartWay</th>\n",
       "      <th>Comb CO2</th>\n",
       "    </tr>\n",
       "  </thead>\n",
       "  <tbody>\n",
       "    <tr>\n",
       "      <th>0</th>\n",
       "      <td>ACURA ILX</td>\n",
       "      <td>2.4</td>\n",
       "      <td>4.0</td>\n",
       "      <td>AMS-8</td>\n",
       "      <td>2WD</td>\n",
       "      <td>Gasoline</td>\n",
       "      <td>CA</td>\n",
       "      <td>L3ULEV125</td>\n",
       "      <td>California LEV-III ULEV125</td>\n",
       "      <td>KHNXV02.4KH3</td>\n",
       "      <td>small car</td>\n",
       "      <td>3</td>\n",
       "      <td>24</td>\n",
       "      <td>34</td>\n",
       "      <td>28</td>\n",
       "      <td>6</td>\n",
       "      <td>No</td>\n",
       "      <td>316</td>\n",
       "    </tr>\n",
       "    <tr>\n",
       "      <th>1</th>\n",
       "      <td>ACURA ILX</td>\n",
       "      <td>2.4</td>\n",
       "      <td>4.0</td>\n",
       "      <td>AMS-8</td>\n",
       "      <td>2WD</td>\n",
       "      <td>Gasoline</td>\n",
       "      <td>FA</td>\n",
       "      <td>T3B125</td>\n",
       "      <td>Federal Tier 3 Bin 125</td>\n",
       "      <td>KHNXV02.4KH3</td>\n",
       "      <td>small car</td>\n",
       "      <td>3</td>\n",
       "      <td>24</td>\n",
       "      <td>34</td>\n",
       "      <td>28</td>\n",
       "      <td>6</td>\n",
       "      <td>No</td>\n",
       "      <td>316</td>\n",
       "    </tr>\n",
       "    <tr>\n",
       "      <th>2</th>\n",
       "      <td>ACURA MDX</td>\n",
       "      <td>3.0</td>\n",
       "      <td>6.0</td>\n",
       "      <td>AMS-7</td>\n",
       "      <td>4WD</td>\n",
       "      <td>Gasoline</td>\n",
       "      <td>CA</td>\n",
       "      <td>L3ULEV125</td>\n",
       "      <td>California LEV-III ULEV125</td>\n",
       "      <td>KHNXV03.0AH3</td>\n",
       "      <td>small SUV</td>\n",
       "      <td>3</td>\n",
       "      <td>26</td>\n",
       "      <td>27</td>\n",
       "      <td>27</td>\n",
       "      <td>6</td>\n",
       "      <td>No</td>\n",
       "      <td>330</td>\n",
       "    </tr>\n",
       "    <tr>\n",
       "      <th>3</th>\n",
       "      <td>ACURA MDX</td>\n",
       "      <td>3.0</td>\n",
       "      <td>6.0</td>\n",
       "      <td>AMS-7</td>\n",
       "      <td>4WD</td>\n",
       "      <td>Gasoline</td>\n",
       "      <td>FA</td>\n",
       "      <td>T3B125</td>\n",
       "      <td>Federal Tier 3 Bin 125</td>\n",
       "      <td>KHNXV03.0AH3</td>\n",
       "      <td>small SUV</td>\n",
       "      <td>3</td>\n",
       "      <td>26</td>\n",
       "      <td>27</td>\n",
       "      <td>27</td>\n",
       "      <td>6</td>\n",
       "      <td>No</td>\n",
       "      <td>330</td>\n",
       "    </tr>\n",
       "    <tr>\n",
       "      <th>4</th>\n",
       "      <td>ACURA MDX</td>\n",
       "      <td>3.5</td>\n",
       "      <td>6.0</td>\n",
       "      <td>SemiAuto-9</td>\n",
       "      <td>2WD</td>\n",
       "      <td>Gasoline</td>\n",
       "      <td>CA</td>\n",
       "      <td>L3ULEV125</td>\n",
       "      <td>California LEV-III ULEV125</td>\n",
       "      <td>KHNXV03.5PH3</td>\n",
       "      <td>small SUV</td>\n",
       "      <td>3</td>\n",
       "      <td>20</td>\n",
       "      <td>27</td>\n",
       "      <td>23</td>\n",
       "      <td>5</td>\n",
       "      <td>No</td>\n",
       "      <td>387</td>\n",
       "    </tr>\n",
       "  </tbody>\n",
       "</table>\n",
       "</div>"
      ],
      "text/plain": [
       "       Model  Displ  Cyl       Trans Drive      Fuel Cert Region       Stnd  \\\n",
       "0  ACURA ILX    2.4  4.0       AMS-8   2WD  Gasoline          CA  L3ULEV125   \n",
       "1  ACURA ILX    2.4  4.0       AMS-8   2WD  Gasoline          FA     T3B125   \n",
       "2  ACURA MDX    3.0  6.0       AMS-7   4WD  Gasoline          CA  L3ULEV125   \n",
       "3  ACURA MDX    3.0  6.0       AMS-7   4WD  Gasoline          FA     T3B125   \n",
       "4  ACURA MDX    3.5  6.0  SemiAuto-9   2WD  Gasoline          CA  L3ULEV125   \n",
       "\n",
       "             Stnd Description  Underhood ID  Veh Class  Air Pollution Score  \\\n",
       "0  California LEV-III ULEV125  KHNXV02.4KH3  small car                    3   \n",
       "1      Federal Tier 3 Bin 125  KHNXV02.4KH3  small car                    3   \n",
       "2  California LEV-III ULEV125  KHNXV03.0AH3  small SUV                    3   \n",
       "3      Federal Tier 3 Bin 125  KHNXV03.0AH3  small SUV                    3   \n",
       "4  California LEV-III ULEV125  KHNXV03.5PH3  small SUV                    3   \n",
       "\n",
       "  City MPG Hwy MPG Cmb MPG  Greenhouse Gas Score SmartWay Comb CO2  \n",
       "0       24      34      28                     6       No      316  \n",
       "1       24      34      28                     6       No      316  \n",
       "2       26      27      27                     6       No      330  \n",
       "3       26      27      27                     6       No      330  \n",
       "4       20      27      23                     5       No      387  "
      ]
     },
     "execution_count": 3,
     "metadata": {},
     "output_type": "execute_result"
    }
   ],
   "source": [
    "##################################################\n",
    "# LOAD DATA WITH PANDAS\n",
    "##################################################\n",
    "# Data from: https://www.fueleconomy.gov/\n",
    "\n",
    "# Load fuel economy data from csv file into a Pandas dataframe\n",
    "df = pd.read_csv('all_alpha_19.csv', header='infer')\n",
    "df.head()"
   ]
  },
  {
   "cell_type": "markdown",
   "metadata": {},
   "source": [
    "In the next few steps we reduce the data to the subset that we need for our purposes, and transform it using the helper function we created earlier."
   ]
  },
  {
   "cell_type": "code",
   "execution_count": 4,
   "metadata": {},
   "outputs": [
    {
     "data": {
      "text/html": [
       "<div>\n",
       "<style scoped>\n",
       "    .dataframe tbody tr th:only-of-type {\n",
       "        vertical-align: middle;\n",
       "    }\n",
       "\n",
       "    .dataframe tbody tr th {\n",
       "        vertical-align: top;\n",
       "    }\n",
       "\n",
       "    .dataframe thead th {\n",
       "        text-align: right;\n",
       "    }\n",
       "</style>\n",
       "<table border=\"1\" class=\"dataframe\">\n",
       "  <thead>\n",
       "    <tr style=\"text-align: right;\">\n",
       "      <th></th>\n",
       "      <th>Model</th>\n",
       "      <th>Displ</th>\n",
       "      <th>Fuel</th>\n",
       "      <th>City MPG</th>\n",
       "      <th>Hwy MPG</th>\n",
       "      <th>Cmb MPG</th>\n",
       "      <th>Greenhouse Gas Score</th>\n",
       "      <th>CityKML</th>\n",
       "      <th>HwyKML</th>\n",
       "      <th>CmbKML</th>\n",
       "    </tr>\n",
       "  </thead>\n",
       "  <tbody>\n",
       "    <tr>\n",
       "      <th>0</th>\n",
       "      <td>ACURA ILX</td>\n",
       "      <td>2.4</td>\n",
       "      <td>Gasoline</td>\n",
       "      <td>24.0</td>\n",
       "      <td>34.0</td>\n",
       "      <td>28.0</td>\n",
       "      <td>6</td>\n",
       "      <td>10.20336</td>\n",
       "      <td>14.45476</td>\n",
       "      <td>11.90392</td>\n",
       "    </tr>\n",
       "    <tr>\n",
       "      <th>1</th>\n",
       "      <td>ACURA MDX</td>\n",
       "      <td>3.0</td>\n",
       "      <td>Gasoline</td>\n",
       "      <td>26.0</td>\n",
       "      <td>27.0</td>\n",
       "      <td>27.0</td>\n",
       "      <td>6</td>\n",
       "      <td>11.05364</td>\n",
       "      <td>11.47878</td>\n",
       "      <td>11.47878</td>\n",
       "    </tr>\n",
       "    <tr>\n",
       "      <th>2</th>\n",
       "      <td>ACURA MDX</td>\n",
       "      <td>3.5</td>\n",
       "      <td>Gasoline</td>\n",
       "      <td>20.0</td>\n",
       "      <td>27.0</td>\n",
       "      <td>23.0</td>\n",
       "      <td>5</td>\n",
       "      <td>8.50280</td>\n",
       "      <td>11.47878</td>\n",
       "      <td>9.77822</td>\n",
       "    </tr>\n",
       "    <tr>\n",
       "      <th>3</th>\n",
       "      <td>ACURA MDX</td>\n",
       "      <td>3.5</td>\n",
       "      <td>Gasoline</td>\n",
       "      <td>19.0</td>\n",
       "      <td>26.0</td>\n",
       "      <td>22.0</td>\n",
       "      <td>4</td>\n",
       "      <td>8.07766</td>\n",
       "      <td>11.05364</td>\n",
       "      <td>9.35308</td>\n",
       "    </tr>\n",
       "    <tr>\n",
       "      <th>4</th>\n",
       "      <td>ACURA MDX A-spec</td>\n",
       "      <td>3.5</td>\n",
       "      <td>Gasoline</td>\n",
       "      <td>19.0</td>\n",
       "      <td>25.0</td>\n",
       "      <td>21.0</td>\n",
       "      <td>4</td>\n",
       "      <td>8.07766</td>\n",
       "      <td>10.62850</td>\n",
       "      <td>8.92794</td>\n",
       "    </tr>\n",
       "  </tbody>\n",
       "</table>\n",
       "</div>"
      ],
      "text/plain": [
       "              Model  Displ      Fuel  City MPG  Hwy MPG  Cmb MPG  \\\n",
       "0         ACURA ILX    2.4  Gasoline      24.0     34.0     28.0   \n",
       "1         ACURA MDX    3.0  Gasoline      26.0     27.0     27.0   \n",
       "2         ACURA MDX    3.5  Gasoline      20.0     27.0     23.0   \n",
       "3         ACURA MDX    3.5  Gasoline      19.0     26.0     22.0   \n",
       "4  ACURA MDX A-spec    3.5  Gasoline      19.0     25.0     21.0   \n",
       "\n",
       "   Greenhouse Gas Score   CityKML    HwyKML    CmbKML  \n",
       "0                     6  10.20336  14.45476  11.90392  \n",
       "1                     6  11.05364  11.47878  11.47878  \n",
       "2                     5   8.50280  11.47878   9.77822  \n",
       "3                     4   8.07766  11.05364   9.35308  \n",
       "4                     4   8.07766  10.62850   8.92794  "
      ]
     },
     "execution_count": 4,
     "metadata": {},
     "output_type": "execute_result"
    }
   ],
   "source": [
    "# Keep only data relative to \"Federal Tier 3 Bin 125\" standard for Gas and Diesel cars\n",
    "df = df.query(\"Stnd == 'T3B125' & (Fuel == 'Gasoline' | Fuel == 'Diesel')\")\n",
    "\n",
    "# Keep only meaningful columns and create a new dataframe\n",
    "# 'Model': Car manufacturer and model\n",
    "# 'Displ': Engine displacement (size of engine)\n",
    "# 'Fuel': Type of fuel\n",
    "# 'City MPG': Number of miles the car gets per gallon of fuel in the city\n",
    "# 'Hwy MPG': Number of miles the car gets per gallon of fuel on the highway\n",
    "# 'Cmb MPG': Combined number of miles the car gets per gallon of fuel in the city and highway\n",
    "# 'Greenhouse Gas Score': Calculated score indicating the car’s efficiency (higher is better)\n",
    "cols = ['Model', 'Displ', 'Fuel', 'City MPG', 'Hwy MPG', 'Cmb MPG', 'Greenhouse Gas Score']\n",
    "df = df[cols].reset_index(drop=True) #Drop the index column of the old dataframe\n",
    "\n",
    "# Convert consumption data to float type\n",
    "df = df.astype({'City MPG': float, 'Hwy MPG': float, 'Cmb MPG': float})\n",
    "\n",
    "# Convert mpg to km/l\n",
    "df = df.assign(CityKML = mpg_to_kml(df['City MPG']))\n",
    "df = df.assign(HwyKML = mpg_to_kml(df['Hwy MPG']))\n",
    "df = df.assign(CmbKML = mpg_to_kml(df['Cmb MPG']))\n",
    "\n",
    "## Optional: Save reduced dataframe to csv (in case it's needed for later use)\n",
    "#df.to_csv('car_data.csv')\n",
    "\n",
    "df.head()"
   ]
  },
  {
   "cell_type": "markdown",
   "metadata": {},
   "source": [
    "A quick way to visualize if there is some relationship between two features is to create a scatterplot. In this case, we want to check if the engine displacement is somehow related to fuel consumption. Our intuition says so, but we want to confirm with data."
   ]
  },
  {
   "cell_type": "code",
   "execution_count": 5,
   "metadata": {},
   "outputs": [
    {
     "data": {
      "image/png": "[encoded data removed]",
      "text/plain": [
       "<Figure size 432x288 with 1 Axes>"
      ]
     },
     "metadata": {
      "needs_background": "light"
     },
     "output_type": "display_data"
    }
   ],
   "source": [
    "################################################\n",
    "# Visualize the data\n",
    "################################################\n",
    "\n",
    "# df = pd.read_csv('car_data.csv', header='infer', index_col=0)\n",
    "\n",
    "# Basic scatter plot of engine displacement vs city km/l\n",
    "df.plot(kind='scatter', x='Displ', y='CityKML')\n",
    "plt.show()"
   ]
  },
  {
   "cell_type": "markdown",
   "metadata": {},
   "source": [
    "Looking at the plot above we can tell there is a defined general trend that confirms our intuition. In general, the bigger the engine size the less amount of kilometers we can drive with a liter of fuel. \n",
    "The plot above uses the base settings for the scatter plot. In the next steps, we can see how to make the plot more compelling to show more data in the same plot. \n",
    "For example, we can color the datapoints in different way based on the fuel type (gas or diesel), and change the size of the dots based on a different metric of interest (greenhouse gas score in this case). "
   ]
  },
  {
   "cell_type": "code",
   "execution_count": 6,
   "metadata": {},
   "outputs": [
    {
     "data": {
      "image/png": "[encoded data removed]",
      "text/plain": [
       "<Figure size 432x288 with 1 Axes>"
      ]
     },
     "metadata": {
      "needs_background": "light"
     },
     "output_type": "display_data"
    }
   ],
   "source": [
    "# Improve the graph for better data insights\n",
    "\n",
    "c = ['r' if fuel  == 'Gasoline' else 'g' for fuel in df['Fuel'].to_list()] # color: red if gas, green if diesel\n",
    "s = df['Greenhouse Gas Score'] * 10 # size proportional to greenhous gas score\n",
    "\n",
    "plt.scatter(x=[], y=[], c='r', s=50, alpha=0.5, label='Gasoline') # empty entry for legend (red marker)\n",
    "plt.scatter(x=[], y=[], c='g', s=50, alpha=0.5, label='Diesel') # empty entry for legend (green marker)\n",
    "plt.scatter(x=df['Displ'], y=df['CityKML'], c=c, s=s, alpha=0.5)\n",
    "plt.xlabel('Engine displacement (l)')\n",
    "plt.ylabel('City km per liter (km/l)')\n",
    "plt.legend()\n",
    "plt.show()"
   ]
  },
  {
   "cell_type": "markdown",
   "metadata": {},
   "source": [
    "Much prettier! And in the same real estate size we can provide much more insight into our data. \n",
    "\n",
    "Next, we explain how to create a simple pie chart. This type of chart is useful to show the relative distribution of a particular feature of our data set. In this case we can easily see that the majority of cars with 2.0 liters engine have greenhouse gas score of 5. There are other ways to convey the same information. This is of course just one of them."
   ]
  },
  {
   "cell_type": "code",
   "execution_count": 7,
   "metadata": {},
   "outputs": [
    {
     "data": {
      "image/png": "[encoded data removed]",
      "text/plain": [
       "<Figure size 432x288 with 1 Axes>"
      ]
     },
     "metadata": {},
     "output_type": "display_data"
    }
   ],
   "source": [
    "# Create pie chart for greenhouse gas score for 2.0l engine cars\n",
    "\n",
    "df2 = df.query(\"Displ == 2.0\") # select only cars with 2.0L engine\n",
    "s1 = df2.groupby('Greenhouse Gas Score').size() # group by Greenhouse gas score and return the count \n",
    "explode = 0.05 + 0.05 * (s1 == max(s1)) # explode the biggest category a little away\n",
    "\n",
    "fig1, ax1 = plt.subplots()\n",
    "ax1.pie(s1, explode=explode, labels=list(s1.index), autopct='%1.1f%%',\n",
    "        shadow=False, startangle= 0, rotatelabels=False)\n",
    "ax1.axis('equal') # Equal aspect ratio ensures that pie is drawn as a circle.\n",
    " \n",
    "plt.title('Greenhouse Gas Scores for 2.0L cars')\n",
    "plt.show()\n"
   ]
  }
 ],
 "metadata": {
  "kernelspec": {
   "display_name": "Python 3",
   "language": "python",
   "name": "python3"
  },
  "language_info": {
   "codemirror_mode": {
    "name": "ipython",
    "version": 3
   },
   "file_extension": ".py",
   "mimetype": "text/x-python",
   "name": "python",
   "nbconvert_exporter": "python",
   "pygments_lexer": "ipython3",
   "version": "3.7.3"
  }
 },
 "nbformat": 4,
 "nbformat_minor": 4
}
